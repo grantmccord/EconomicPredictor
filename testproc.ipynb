{
 "cells": [
  {
   "cell_type": "code",
   "execution_count": 1,
   "metadata": {},
   "outputs": [],
   "source": [
    "import pandas as pd"
   ]
  },
  {
   "cell_type": "markdown",
   "metadata": {},
   "source": [
    "Below lists start with index 0 = 2005, and index -1 = 2023"
   ]
  },
  {
   "cell_type": "code",
   "execution_count": 2,
   "metadata": {},
   "outputs": [],
   "source": [
    "sp = [1178.28,\n",
    "1290.01,\n",
    "1511.14,\n",
    "1403.22,\n",
    "902.41,\n",
    "1125.06,\n",
    "1338.31,\n",
    "1341.27,\n",
    "1639.84,\n",
    "1889.77,\n",
    "2111.94,\n",
    "2065.55,\n",
    "2395.35,\n",
    "2701.49,\n",
    "2854.71,\n",
    "2919.62,\n",
    "4167.85,\n",
    "4040.36,\n",
    "4146.17\n",
    "]"
   ]
  },
  {
   "cell_type": "code",
   "execution_count": 3,
   "metadata": {},
   "outputs": [],
   "source": [
    "unemploymentvalues = [5.1,\n",
    "4.6,\n",
    "4.4,\n",
    "5.4,\n",
    "9.4,\n",
    "9.6,\n",
    "9.0,\n",
    "8.2,\n",
    "7.5,\n",
    "6.3,\n",
    "5.6,\n",
    "4.8,\n",
    "4.4,\n",
    "3.8,\n",
    "3.6,\n",
    "13.2,\n",
    "5.8,\n",
    "3.6,\n",
    "3.7\n",
    "]"
   ]
  },
  {
   "cell_type": "code",
   "execution_count": 4,
   "metadata": {},
   "outputs": [],
   "source": [
    "price_indexes = [107.9,\n",
    "117.2,\n",
    "118.6,\n",
    "141.2,\n",
    "116.8,\n",
    "126.7,\n",
    "143.1,\n",
    "142.0,\n",
    "139.4,\n",
    "140.1,\n",
    "126.5,\n",
    "119.9,\n",
    "122.7,\n",
    "128.2,\n",
    "127.0,\n",
    "119.0,\n",
    "132.8,\n",
    "148.2,\n",
    "139.7\n",
    "]"
   ]
  },
  {
   "cell_type": "code",
   "execution_count": 5,
   "metadata": {},
   "outputs": [],
   "source": [
    "cpi = [193.6,\n",
    "201.3,\n",
    "206.755,\n",
    "215.208,\n",
    "213.022,\n",
    "217.290,\n",
    "224.806,\n",
    "228.713,\n",
    "231.893,\n",
    "236.918,\n",
    "237.001,\n",
    "239.557,\n",
    "244.004,\n",
    "250.792,\n",
    "255.296,\n",
    "255.848,\n",
    "268.452,\n",
    "291.359,\n",
    "303.365\n",
    "]"
   ]
  },
  {
   "cell_type": "code",
   "execution_count": 6,
   "metadata": {},
   "outputs": [],
   "source": [
    "df = pd.read_excel('blsdata/natsector_M2023_dl.xlsx')"
   ]
  },
  {
   "cell_type": "code",
   "execution_count": 7,
   "metadata": {},
   "outputs": [],
   "source": [
    "enddf = df[['OCC_CODE','TOT_EMP','EMP_PRSE','PCT_TOTAL','A_MEAN','MEAN_PRSE','A_PCT25','A_MEDIAN','A_PCT75']]"
   ]
  },
  {
   "cell_type": "code",
   "execution_count": 8,
   "metadata": {},
   "outputs": [
    {
     "data": {
      "text/html": [
       "<div>\n",
       "<style scoped>\n",
       "    .dataframe tbody tr th:only-of-type {\n",
       "        vertical-align: middle;\n",
       "    }\n",
       "\n",
       "    .dataframe tbody tr th {\n",
       "        vertical-align: top;\n",
       "    }\n",
       "\n",
       "    .dataframe thead th {\n",
       "        text-align: right;\n",
       "    }\n",
       "</style>\n",
       "<table border=\"1\" class=\"dataframe\">\n",
       "  <thead>\n",
       "    <tr style=\"text-align: right;\">\n",
       "      <th></th>\n",
       "      <th>OCC_CODE</th>\n",
       "      <th>TOT_EMP</th>\n",
       "      <th>EMP_PRSE</th>\n",
       "      <th>PCT_TOTAL</th>\n",
       "      <th>A_MEAN</th>\n",
       "      <th>MEAN_PRSE</th>\n",
       "      <th>A_PCT25</th>\n",
       "      <th>A_MEDIAN</th>\n",
       "      <th>A_PCT75</th>\n",
       "    </tr>\n",
       "  </thead>\n",
       "  <tbody>\n",
       "    <tr>\n",
       "      <th>0</th>\n",
       "      <td>00-0000</td>\n",
       "      <td>413580</td>\n",
       "      <td>0</td>\n",
       "      <td>100</td>\n",
       "      <td>43010</td>\n",
       "      <td>0.6</td>\n",
       "      <td>33350</td>\n",
       "      <td>35640</td>\n",
       "      <td>44970</td>\n",
       "    </tr>\n",
       "    <tr>\n",
       "      <th>1</th>\n",
       "      <td>11-0000</td>\n",
       "      <td>12040</td>\n",
       "      <td>2.3</td>\n",
       "      <td>2.91</td>\n",
       "      <td>109590</td>\n",
       "      <td>1.2</td>\n",
       "      <td>65020</td>\n",
       "      <td>96150</td>\n",
       "      <td>130930</td>\n",
       "    </tr>\n",
       "    <tr>\n",
       "      <th>2</th>\n",
       "      <td>11-1000</td>\n",
       "      <td>6150</td>\n",
       "      <td>2.9</td>\n",
       "      <td>1.49</td>\n",
       "      <td>108990</td>\n",
       "      <td>1.9</td>\n",
       "      <td>61170</td>\n",
       "      <td>88740</td>\n",
       "      <td>130000</td>\n",
       "    </tr>\n",
       "    <tr>\n",
       "      <th>3</th>\n",
       "      <td>11-1010</td>\n",
       "      <td>130</td>\n",
       "      <td>12.9</td>\n",
       "      <td>0.03</td>\n",
       "      <td>226760</td>\n",
       "      <td>5.2</td>\n",
       "      <td>127940</td>\n",
       "      <td>181320</td>\n",
       "      <td>#</td>\n",
       "    </tr>\n",
       "    <tr>\n",
       "      <th>4</th>\n",
       "      <td>11-1011</td>\n",
       "      <td>130</td>\n",
       "      <td>12.9</td>\n",
       "      <td>0.03</td>\n",
       "      <td>226760</td>\n",
       "      <td>5.2</td>\n",
       "      <td>127940</td>\n",
       "      <td>181320</td>\n",
       "      <td>#</td>\n",
       "    </tr>\n",
       "  </tbody>\n",
       "</table>\n",
       "</div>"
      ],
      "text/plain": [
       "  OCC_CODE TOT_EMP EMP_PRSE PCT_TOTAL  A_MEAN MEAN_PRSE A_PCT25 A_MEDIAN  \\\n",
       "0  00-0000  413580        0       100   43010       0.6   33350    35640   \n",
       "1  11-0000   12040      2.3      2.91  109590       1.2   65020    96150   \n",
       "2  11-1000    6150      2.9      1.49  108990       1.9   61170    88740   \n",
       "3  11-1010     130     12.9      0.03  226760       5.2  127940   181320   \n",
       "4  11-1011     130     12.9      0.03  226760       5.2  127940   181320   \n",
       "\n",
       "  A_PCT75  \n",
       "0   44970  \n",
       "1  130930  \n",
       "2  130000  \n",
       "3       #  \n",
       "4       #  "
      ]
     },
     "execution_count": 8,
     "metadata": {},
     "output_type": "execute_result"
    }
   ],
   "source": [
    "enddf.head()"
   ]
  },
  {
   "cell_type": "code",
   "execution_count": 9,
   "metadata": {},
   "outputs": [
    {
     "data": {
      "text/plain": [
       "(16376, 9)"
      ]
     },
     "execution_count": 9,
     "metadata": {},
     "output_type": "execute_result"
    }
   ],
   "source": [
    "enddf.shape"
   ]
  },
  {
   "cell_type": "code",
   "execution_count": 11,
   "metadata": {},
   "outputs": [],
   "source": [
    "newdf = enddf.drop(enddf[(enddf[\"A_MEAN\"] == \"*\") | (enddf[\"EMP_PRSE\"] == \"**\")].index)\n",
    "# newdf = newdf.drop(newdf[newdf[\"EMP_PRSE\"] == \"**\"].index)"
   ]
  },
  {
   "cell_type": "code",
   "execution_count": 13,
   "metadata": {},
   "outputs": [
    {
     "data": {
      "text/plain": [
       "(15446, 9)"
      ]
     },
     "execution_count": 13,
     "metadata": {},
     "output_type": "execute_result"
    }
   ],
   "source": [
    "newdf.shape"
   ]
  },
  {
   "cell_type": "code",
   "execution_count": 15,
   "metadata": {},
   "outputs": [],
   "source": [
    "newdf = newdf.replace('#',239200)"
   ]
  },
  {
   "cell_type": "code",
   "execution_count": 17,
   "metadata": {},
   "outputs": [],
   "source": [
    "newdf['CPI'] = cpi[-1]\n",
    "newdf['PRICE_INDEX'] = price_indexes[-1]\n",
    "newdf['UNEMPLOYMENT_RATE'] = unemploymentvalues[-1]\n",
    "newdf['SP_INDEX'] = sp[-1]\n",
    "newdf['YEAR'] = 2023"
   ]
  },
  {
   "cell_type": "code",
   "execution_count": 18,
   "metadata": {},
   "outputs": [
    {
     "data": {
      "text/html": [
       "<div>\n",
       "<style scoped>\n",
       "    .dataframe tbody tr th:only-of-type {\n",
       "        vertical-align: middle;\n",
       "    }\n",
       "\n",
       "    .dataframe tbody tr th {\n",
       "        vertical-align: top;\n",
       "    }\n",
       "\n",
       "    .dataframe thead th {\n",
       "        text-align: right;\n",
       "    }\n",
       "</style>\n",
       "<table border=\"1\" class=\"dataframe\">\n",
       "  <thead>\n",
       "    <tr style=\"text-align: right;\">\n",
       "      <th></th>\n",
       "      <th>OCC_CODE</th>\n",
       "      <th>TOT_EMP</th>\n",
       "      <th>EMP_PRSE</th>\n",
       "      <th>PCT_TOTAL</th>\n",
       "      <th>A_MEAN</th>\n",
       "      <th>MEAN_PRSE</th>\n",
       "      <th>A_PCT25</th>\n",
       "      <th>A_MEDIAN</th>\n",
       "      <th>A_PCT75</th>\n",
       "      <th>CPI</th>\n",
       "      <th>PRICE_INDEX</th>\n",
       "      <th>UNEMPLOYMENT_RATE</th>\n",
       "      <th>SP_INDEX</th>\n",
       "      <th>YEAR</th>\n",
       "    </tr>\n",
       "  </thead>\n",
       "  <tbody>\n",
       "    <tr>\n",
       "      <th>0</th>\n",
       "      <td>00-0000</td>\n",
       "      <td>413580</td>\n",
       "      <td>0.0</td>\n",
       "      <td>100.00</td>\n",
       "      <td>43010</td>\n",
       "      <td>0.6</td>\n",
       "      <td>33350</td>\n",
       "      <td>35640</td>\n",
       "      <td>44970</td>\n",
       "      <td>303.365</td>\n",
       "      <td>139.7</td>\n",
       "      <td>3.7</td>\n",
       "      <td>4146.17</td>\n",
       "      <td>2023</td>\n",
       "    </tr>\n",
       "    <tr>\n",
       "      <th>1</th>\n",
       "      <td>11-0000</td>\n",
       "      <td>12040</td>\n",
       "      <td>2.3</td>\n",
       "      <td>2.91</td>\n",
       "      <td>109590</td>\n",
       "      <td>1.2</td>\n",
       "      <td>65020</td>\n",
       "      <td>96150</td>\n",
       "      <td>130930</td>\n",
       "      <td>303.365</td>\n",
       "      <td>139.7</td>\n",
       "      <td>3.7</td>\n",
       "      <td>4146.17</td>\n",
       "      <td>2023</td>\n",
       "    </tr>\n",
       "    <tr>\n",
       "      <th>2</th>\n",
       "      <td>11-1000</td>\n",
       "      <td>6150</td>\n",
       "      <td>2.9</td>\n",
       "      <td>1.49</td>\n",
       "      <td>108990</td>\n",
       "      <td>1.9</td>\n",
       "      <td>61170</td>\n",
       "      <td>88740</td>\n",
       "      <td>130000</td>\n",
       "      <td>303.365</td>\n",
       "      <td>139.7</td>\n",
       "      <td>3.7</td>\n",
       "      <td>4146.17</td>\n",
       "      <td>2023</td>\n",
       "    </tr>\n",
       "    <tr>\n",
       "      <th>3</th>\n",
       "      <td>11-1010</td>\n",
       "      <td>130</td>\n",
       "      <td>12.9</td>\n",
       "      <td>0.03</td>\n",
       "      <td>226760</td>\n",
       "      <td>5.2</td>\n",
       "      <td>127940</td>\n",
       "      <td>181320</td>\n",
       "      <td>239200</td>\n",
       "      <td>303.365</td>\n",
       "      <td>139.7</td>\n",
       "      <td>3.7</td>\n",
       "      <td>4146.17</td>\n",
       "      <td>2023</td>\n",
       "    </tr>\n",
       "    <tr>\n",
       "      <th>4</th>\n",
       "      <td>11-1011</td>\n",
       "      <td>130</td>\n",
       "      <td>12.9</td>\n",
       "      <td>0.03</td>\n",
       "      <td>226760</td>\n",
       "      <td>5.2</td>\n",
       "      <td>127940</td>\n",
       "      <td>181320</td>\n",
       "      <td>239200</td>\n",
       "      <td>303.365</td>\n",
       "      <td>139.7</td>\n",
       "      <td>3.7</td>\n",
       "      <td>4146.17</td>\n",
       "      <td>2023</td>\n",
       "    </tr>\n",
       "  </tbody>\n",
       "</table>\n",
       "</div>"
      ],
      "text/plain": [
       "  OCC_CODE  TOT_EMP  EMP_PRSE  PCT_TOTAL  A_MEAN  MEAN_PRSE  A_PCT25  \\\n",
       "0  00-0000   413580       0.0     100.00   43010        0.6    33350   \n",
       "1  11-0000    12040       2.3       2.91  109590        1.2    65020   \n",
       "2  11-1000     6150       2.9       1.49  108990        1.9    61170   \n",
       "3  11-1010      130      12.9       0.03  226760        5.2   127940   \n",
       "4  11-1011      130      12.9       0.03  226760        5.2   127940   \n",
       "\n",
       "   A_MEDIAN  A_PCT75      CPI  PRICE_INDEX  UNEMPLOYMENT_RATE  SP_INDEX  YEAR  \n",
       "0     35640    44970  303.365        139.7                3.7   4146.17  2023  \n",
       "1     96150   130930  303.365        139.7                3.7   4146.17  2023  \n",
       "2     88740   130000  303.365        139.7                3.7   4146.17  2023  \n",
       "3    181320   239200  303.365        139.7                3.7   4146.17  2023  \n",
       "4    181320   239200  303.365        139.7                3.7   4146.17  2023  "
      ]
     },
     "execution_count": 18,
     "metadata": {},
     "output_type": "execute_result"
    }
   ],
   "source": [
    "newdf.head()"
   ]
  },
  {
   "cell_type": "code",
   "execution_count": 55,
   "metadata": {},
   "outputs": [],
   "source": [
    "newdf.to_csv('processed2023data.csv')"
   ]
  },
  {
   "cell_type": "code",
   "execution_count": 9,
   "metadata": {},
   "outputs": [
    {
     "name": "stdout",
     "output_type": "stream",
     "text": [
      "0.14517078227363528\n"
     ]
    }
   ],
   "source": [
    "loss = [0.015204177238047123, 0.2387499213218689, 0.3523361086845398, 0.14091090857982635, 0.019228598102927208, 0.09365568310022354, 0.024062464013695717, 0.30078405141830444, 0.4983649253845215, 0.23031817376613617, 0.05252232030034065, 0.2123657912015915, 0.10982656478881836, 0.05057578533887863, 0.07214231789112091, 0.0548739954829216, 0.21912795305252075, 0.06468940526247025, 0.1266327202320099, 0.0270437803119421]\n",
    "mse = sum(loss) / len(loss)\n",
    "print(mse)"
   ]
  }
 ],
 "metadata": {
  "kernelspec": {
   "display_name": "Python 3",
   "language": "python",
   "name": "python3"
  },
  "language_info": {
   "codemirror_mode": {
    "name": "ipython",
    "version": 3
   },
   "file_extension": ".py",
   "mimetype": "text/x-python",
   "name": "python",
   "nbconvert_exporter": "python",
   "pygments_lexer": "ipython3",
   "version": "3.10.0"
  }
 },
 "nbformat": 4,
 "nbformat_minor": 2
}
